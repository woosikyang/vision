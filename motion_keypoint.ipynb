{
  "nbformat": 4,
  "nbformat_minor": 0,
  "metadata": {
    "colab": {
      "name": "motion_keypoint.ipynb",
      "provenance": [],
      "machine_shape": "hm",
      "authorship_tag": "ABX9TyPJlnFkDvIhuSi7UfVDi3fl",
      "include_colab_link": true
    },
    "kernelspec": {
      "name": "python3",
      "display_name": "Python 3"
    },
    "accelerator": "GPU"
  },
  "cells": [
    {
      "cell_type": "markdown",
      "metadata": {
        "id": "view-in-github",
        "colab_type": "text"
      },
      "source": [
        "<a href=\"https://colab.research.google.com/github/woosikyang/vision/blob/master/motion_keypoint.ipynb\" target=\"_parent\"><img src=\"https://colab.research.google.com/assets/colab-badge.svg\" alt=\"Open In Colab\"/></a>"
      ]
    },
    {
      "cell_type": "code",
      "metadata": {
        "id": "Qc1SEds9eVbe",
        "colab": {
          "base_uri": "https://localhost:8080/"
        },
        "outputId": "b4b9f50b-ad27-4891-ae38-8b2d0128fd19"
      },
      "source": [
        "from google.colab import drive\r\n",
        "\r\n",
        "drive.mount('/content/drive')"
      ],
      "execution_count": 1,
      "outputs": [
        {
          "output_type": "stream",
          "text": [
            "Mounted at /content/drive\n"
          ],
          "name": "stdout"
        }
      ]
    },
    {
      "cell_type": "code",
      "metadata": {
        "colab": {
          "base_uri": "https://localhost:8080/",
          "height": 34
        },
        "id": "NVarBNkjP69J",
        "outputId": "dc07d9b7-39a7-4c38-8383-0a23d1e24251"
      },
      "source": [
        "import os\r\n",
        "\r\n",
        "os.getcwd()"
      ],
      "execution_count": 2,
      "outputs": [
        {
          "output_type": "execute_result",
          "data": {
            "application/vnd.google.colaboratory.intrinsic+json": {
              "type": "string"
            },
            "text/plain": [
              "'/content'"
            ]
          },
          "metadata": {
            "tags": []
          },
          "execution_count": 2
        }
      ]
    },
    {
      "cell_type": "code",
      "metadata": {
        "id": "Au2KKknLMgve"
      },
      "source": [
        "import os\r\n",
        "\r\n",
        "\r\n",
        "\r\n",
        "data_path = os.path.join(os.getcwd(),'drive','Shareddrives','Competition','motion_keypoint','data')\r\n",
        "train_path = os.path.join(data_path,'train_imgs')\r\n",
        "test_path = os.path.join(data_path, 'test_imgs')\r\n"
      ],
      "execution_count": 3,
      "outputs": []
    },
    {
      "cell_type": "code",
      "metadata": {
        "id": "xPW-ZRTPQU3Q"
      },
      "source": [
        "import pandas as pd\r\n",
        "\r\n",
        "\r\n",
        "train_df = pd.read_csv(os.path.join(data_path,'train_df.csv'))"
      ],
      "execution_count": 5,
      "outputs": []
    },
    {
      "cell_type": "code",
      "metadata": {
        "colab": {
          "base_uri": "https://localhost:8080/"
        },
        "id": "q_2FKESvQViX",
        "outputId": "8f04dbf9-da2e-4ee7-a5d2-525d61b0a337"
      },
      "source": [
        "train_df.head()\r\n",
        "print(train_df.shape)"
      ],
      "execution_count": 7,
      "outputs": [
        {
          "output_type": "stream",
          "text": [
            "(4195, 49)\n"
          ],
          "name": "stdout"
        }
      ]
    },
    {
      "cell_type": "code",
      "metadata": {
        "colab": {
          "base_uri": "https://localhost:8080/"
        },
        "id": "XVzpGKY1QsaR",
        "outputId": "e67d5b49-2f4d-49d3-8d87-75c66f4a5442"
      },
      "source": [
        "print(len(os.listdir(train_path)))\r\n",
        "print(len(os.listdir(test_path)))"
      ],
      "execution_count": 8,
      "outputs": [
        {
          "output_type": "stream",
          "text": [
            "4195\n",
            "1600\n"
          ],
          "name": "stdout"
        }
      ]
    },
    {
      "cell_type": "code",
      "metadata": {
        "id": "HEOs_QGwQzct"
      },
      "source": [
        "sample_submissions = pd.read_csv(os.path.join(data_path,'train_df.csv'))"
      ],
      "execution_count": null,
      "outputs": []
    },
    {
      "cell_type": "code",
      "metadata": {
        "id": "JMafeNSly3C7"
      },
      "source": [
        "import torch.nn as nn\r\n",
        "\r\n",
        "class AE(nn.Module) :\r\n",
        "  def  __init__(self) :\r\n",
        "    super(AE, self).__init__()\r\n",
        "\r\n",
        "    self.enc = nn.Sequential\r\n",
        "\r\n"
      ],
      "execution_count": null,
      "outputs": []
    }
  ]
}